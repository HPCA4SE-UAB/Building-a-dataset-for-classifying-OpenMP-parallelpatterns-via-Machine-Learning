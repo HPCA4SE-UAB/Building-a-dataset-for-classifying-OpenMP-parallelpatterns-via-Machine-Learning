{
 "cells": [
  {
   "cell_type": "markdown",
   "metadata": {},
   "source": [
    "# Training and test script of an ANN to classify OpenMP kernels"
   ]
  },
  {
   "cell_type": "code",
   "execution_count": 1,
   "metadata": {},
   "outputs": [],
   "source": [
    "import numpy as np\n",
    "import pandas as pd\n",
    "import os\n",
    "os.environ['CUDA_VISIBLE_DEVICES'] = '-1'"
   ]
  },
  {
   "cell_type": "markdown",
   "metadata": {},
   "source": [
    "Load training dataset"
   ]
  },
  {
   "cell_type": "code",
   "execution_count": 2,
   "metadata": {},
   "outputs": [],
   "source": [
    "dataset = pd.read_csv('train_ANN.csv', sep=';')"
   ]
  },
  {
   "cell_type": "code",
   "execution_count": 3,
   "metadata": {},
   "outputs": [
    {
     "data": {
      "text/html": [
       "<div>\n",
       "<style scoped>\n",
       "    .dataframe tbody tr th:only-of-type {\n",
       "        vertical-align: middle;\n",
       "    }\n",
       "\n",
       "    .dataframe tbody tr th {\n",
       "        vertical-align: top;\n",
       "    }\n",
       "\n",
       "    .dataframe thead th {\n",
       "        text-align: right;\n",
       "    }\n",
       "</style>\n",
       "<table border=\"1\" class=\"dataframe\">\n",
       "  <thead>\n",
       "    <tr style=\"text-align: right;\">\n",
       "      <th></th>\n",
       "      <th>label</th>\n",
       "      <th>PAPI_L1_DCM</th>\n",
       "      <th>PAPI_L3_TCM</th>\n",
       "      <th>PAPI_TOT_INS</th>\n",
       "      <th>PAPI_REF_CYC</th>\n",
       "      <th>PAPI_L2_LDM</th>\n",
       "      <th>PAPI_SR_INS</th>\n",
       "      <th>PAPI_BR_UCN</th>\n",
       "      <th>PAPI_BR_CN</th>\n",
       "      <th>PAPI_BR_TKN</th>\n",
       "      <th>PAPI_BR_MSP</th>\n",
       "      <th>PAPI_FP_OPS</th>\n",
       "      <th>PAPI_L1_LDM</th>\n",
       "      <th>PAPI_L1_STM</th>\n",
       "      <th>PAPI_SP_OPS</th>\n",
       "      <th>PAPI_LD_INS</th>\n",
       "      <th>PAPI_L2_STM</th>\n",
       "      <th>PAPI_TLB_DM</th>\n",
       "      <th>PAPI_L2_DCH</th>\n",
       "    </tr>\n",
       "  </thead>\n",
       "  <tbody>\n",
       "    <tr>\n",
       "      <th>0</th>\n",
       "      <td>Matrix x Vector</td>\n",
       "      <td>0.014623</td>\n",
       "      <td>0.000764</td>\n",
       "      <td>1.733396</td>\n",
       "      <td>1.0</td>\n",
       "      <td>0.000617</td>\n",
       "      <td>0.230399</td>\n",
       "      <td>4.709918e-04</td>\n",
       "      <td>0.267647</td>\n",
       "      <td>0.249635</td>\n",
       "      <td>0.000254</td>\n",
       "      <td>4.580621e-01</td>\n",
       "      <td>0.013099</td>\n",
       "      <td>0.000030</td>\n",
       "      <td>0.458033</td>\n",
       "      <td>0.478215</td>\n",
       "      <td>0.000014</td>\n",
       "      <td>0.000189</td>\n",
       "      <td>1.324517e-02</td>\n",
       "    </tr>\n",
       "    <tr>\n",
       "      <th>1</th>\n",
       "      <td>Rows</td>\n",
       "      <td>0.002384</td>\n",
       "      <td>0.000413</td>\n",
       "      <td>0.580806</td>\n",
       "      <td>1.0</td>\n",
       "      <td>0.000250</td>\n",
       "      <td>0.015644</td>\n",
       "      <td>3.338106e-03</td>\n",
       "      <td>0.131571</td>\n",
       "      <td>0.076200</td>\n",
       "      <td>0.000600</td>\n",
       "      <td>1.247113e-05</td>\n",
       "      <td>0.001618</td>\n",
       "      <td>0.000753</td>\n",
       "      <td>0.000000</td>\n",
       "      <td>0.085996</td>\n",
       "      <td>0.000452</td>\n",
       "      <td>0.000021</td>\n",
       "      <td>1.728914e-03</td>\n",
       "    </tr>\n",
       "    <tr>\n",
       "      <th>2</th>\n",
       "      <td>Stride</td>\n",
       "      <td>0.005566</td>\n",
       "      <td>0.001708</td>\n",
       "      <td>0.253883</td>\n",
       "      <td>1.0</td>\n",
       "      <td>0.002196</td>\n",
       "      <td>0.004595</td>\n",
       "      <td>5.397193e-04</td>\n",
       "      <td>0.075488</td>\n",
       "      <td>0.041976</td>\n",
       "      <td>0.000106</td>\n",
       "      <td>8.878282e-03</td>\n",
       "      <td>0.002869</td>\n",
       "      <td>0.004118</td>\n",
       "      <td>0.000000</td>\n",
       "      <td>0.035835</td>\n",
       "      <td>0.004351</td>\n",
       "      <td>0.000006</td>\n",
       "      <td>5.781366e-04</td>\n",
       "    </tr>\n",
       "    <tr>\n",
       "      <th>3</th>\n",
       "      <td>Stride</td>\n",
       "      <td>0.064821</td>\n",
       "      <td>0.033212</td>\n",
       "      <td>0.280023</td>\n",
       "      <td>1.0</td>\n",
       "      <td>0.032376</td>\n",
       "      <td>0.033533</td>\n",
       "      <td>3.706282e-04</td>\n",
       "      <td>0.038996</td>\n",
       "      <td>0.036310</td>\n",
       "      <td>0.000072</td>\n",
       "      <td>1.013946e-01</td>\n",
       "      <td>0.032499</td>\n",
       "      <td>0.032247</td>\n",
       "      <td>0.000000</td>\n",
       "      <td>0.038231</td>\n",
       "      <td>0.032232</td>\n",
       "      <td>0.003568</td>\n",
       "      <td>1.985738e-04</td>\n",
       "    </tr>\n",
       "    <tr>\n",
       "      <th>4</th>\n",
       "      <td>Rows</td>\n",
       "      <td>0.036578</td>\n",
       "      <td>0.005611</td>\n",
       "      <td>0.108556</td>\n",
       "      <td>1.0</td>\n",
       "      <td>0.018724</td>\n",
       "      <td>0.017855</td>\n",
       "      <td>9.334299e-07</td>\n",
       "      <td>0.018924</td>\n",
       "      <td>0.018733</td>\n",
       "      <td>0.000042</td>\n",
       "      <td>6.025008e-09</td>\n",
       "      <td>0.018726</td>\n",
       "      <td>0.017852</td>\n",
       "      <td>0.000000</td>\n",
       "      <td>0.018061</td>\n",
       "      <td>0.017852</td>\n",
       "      <td>0.003108</td>\n",
       "      <td>9.914485e-07</td>\n",
       "    </tr>\n",
       "  </tbody>\n",
       "</table>\n",
       "</div>"
      ],
      "text/plain": [
       "             label  PAPI_L1_DCM  PAPI_L3_TCM  PAPI_TOT_INS  PAPI_REF_CYC  \\\n",
       "0  Matrix x Vector     0.014623     0.000764      1.733396           1.0   \n",
       "1             Rows     0.002384     0.000413      0.580806           1.0   \n",
       "2           Stride     0.005566     0.001708      0.253883           1.0   \n",
       "3           Stride     0.064821     0.033212      0.280023           1.0   \n",
       "4             Rows     0.036578     0.005611      0.108556           1.0   \n",
       "\n",
       "   PAPI_L2_LDM  PAPI_SR_INS   PAPI_BR_UCN  PAPI_BR_CN  PAPI_BR_TKN  \\\n",
       "0     0.000617     0.230399  4.709918e-04    0.267647     0.249635   \n",
       "1     0.000250     0.015644  3.338106e-03    0.131571     0.076200   \n",
       "2     0.002196     0.004595  5.397193e-04    0.075488     0.041976   \n",
       "3     0.032376     0.033533  3.706282e-04    0.038996     0.036310   \n",
       "4     0.018724     0.017855  9.334299e-07    0.018924     0.018733   \n",
       "\n",
       "   PAPI_BR_MSP   PAPI_FP_OPS  PAPI_L1_LDM  PAPI_L1_STM  PAPI_SP_OPS  \\\n",
       "0     0.000254  4.580621e-01     0.013099     0.000030     0.458033   \n",
       "1     0.000600  1.247113e-05     0.001618     0.000753     0.000000   \n",
       "2     0.000106  8.878282e-03     0.002869     0.004118     0.000000   \n",
       "3     0.000072  1.013946e-01     0.032499     0.032247     0.000000   \n",
       "4     0.000042  6.025008e-09     0.018726     0.017852     0.000000   \n",
       "\n",
       "   PAPI_LD_INS  PAPI_L2_STM  PAPI_TLB_DM   PAPI_L2_DCH  \n",
       "0     0.478215     0.000014     0.000189  1.324517e-02  \n",
       "1     0.085996     0.000452     0.000021  1.728914e-03  \n",
       "2     0.035835     0.004351     0.000006  5.781366e-04  \n",
       "3     0.038231     0.032232     0.003568  1.985738e-04  \n",
       "4     0.018061     0.017852     0.003108  9.914485e-07  "
      ]
     },
     "execution_count": 3,
     "metadata": {},
     "output_type": "execute_result"
    }
   ],
   "source": [
    "dataset.head(5)"
   ]
  },
  {
   "cell_type": "markdown",
   "metadata": {},
   "source": [
    "Shuffle dataset and get training labels"
   ]
  },
  {
   "cell_type": "code",
   "execution_count": 4,
   "metadata": {},
   "outputs": [
    {
     "data": {
      "text/plain": [
       "array(['Matrix x Matrix', 'Stencil', 'Matrix x Vector', 'Triad', 'Stride',\n",
       "       'Copy', 'Rows', 'Reduction'], dtype=object)"
      ]
     },
     "execution_count": 4,
     "metadata": {},
     "output_type": "execute_result"
    }
   ],
   "source": [
    "from sklearn.utils import shuffle\n",
    "dataset = shuffle(dataset)\n",
    "dataset['label'].unique()"
   ]
  },
  {
   "cell_type": "code",
   "execution_count": 5,
   "metadata": {},
   "outputs": [
    {
     "name": "stdout",
     "output_type": "stream",
     "text": [
      "Rows               103200\n",
      "Copy               103200\n",
      "Stride             103200\n",
      "Triad              103200\n",
      "Reduction          103200\n",
      "Matrix x Matrix    102168\n",
      "Stencil            102168\n",
      "Matrix x Vector    102168\n",
      "Name: label, dtype: int64\n"
     ]
    }
   ],
   "source": [
    "print(dataset['label'].value_counts())"
   ]
  },
  {
   "cell_type": "markdown",
   "metadata": {},
   "source": [
    "dataset.head(5)"
   ]
  },
  {
   "cell_type": "markdown",
   "metadata": {},
   "source": [
    "columns_to_divide = list(dataset.columns)\n",
    "columns_to_divide.pop(0)\n",
    "columns_to_divide "
   ]
  },
  {
   "cell_type": "markdown",
   "metadata": {},
   "source": [
    "dataset_aux = dataset.copy()\n",
    "for column in columns_to_divide:\n",
    "    dataset_aux[column] = dataset[column].div(dataset['PAPI_REF_CYC'], axis=0)\n",
    "dataset_aux.head(5)\n",
    "dataset_aux.to_csv('train_ANN.csv',sep=';', index=False)"
   ]
  },
  {
   "cell_type": "markdown",
   "metadata": {},
   "source": [
    "Divide dataset hardware performance counters and labels"
   ]
  },
  {
   "cell_type": "code",
   "execution_count": 6,
   "metadata": {},
   "outputs": [],
   "source": [
    "X = dataset.iloc[:,1:19].values\n",
    "y = dataset.iloc[:,0].values"
   ]
  },
  {
   "cell_type": "code",
   "execution_count": 7,
   "metadata": {},
   "outputs": [
    {
     "data": {
      "text/plain": [
       "array([2.50420246e-01, 4.50745197e-05, 1.81519228e+00, 1.00000000e+00,\n",
       "       2.18125721e-02, 2.26743773e-01, 1.58145838e-06, 2.27075268e-01,\n",
       "       2.26629392e-01, 1.90759389e-04, 4.54075161e-01, 2.50338363e-01,\n",
       "       1.19468473e-05, 4.54076085e-01, 4.53545435e-01, 1.18331913e-05,\n",
       "       3.07595849e-07, 2.28241829e-01])"
      ]
     },
     "execution_count": 7,
     "metadata": {},
     "output_type": "execute_result"
    }
   ],
   "source": [
    "X[0]"
   ]
  },
  {
   "cell_type": "markdown",
   "metadata": {},
   "source": [
    "Normalize data"
   ]
  },
  {
   "cell_type": "code",
   "execution_count": 8,
   "metadata": {},
   "outputs": [],
   "source": [
    "from sklearn.preprocessing import Normalizer\n",
    "scaler_x = Normalizer()\n",
    "scaler_x.fit(X)\n",
    "X_scaled =  scaler_x.transform(X)"
   ]
  },
  {
   "cell_type": "markdown",
   "metadata": {},
   "source": [
    "Encode labels in numeric categories"
   ]
  },
  {
   "cell_type": "code",
   "execution_count": 9,
   "metadata": {},
   "outputs": [],
   "source": [
    "from sklearn.preprocessing import LabelEncoder\n",
    "encoder =  LabelEncoder()\n",
    "y1 = encoder.fit_transform(y)\n",
    "Y = pd.get_dummies(y1).values"
   ]
  },
  {
   "cell_type": "code",
   "execution_count": 10,
   "metadata": {},
   "outputs": [
    {
     "name": "stderr",
     "output_type": "stream",
     "text": [
      "Using TensorFlow backend.\n",
      "c:\\users\\jordi\\appdata\\local\\programs\\python\\python36\\lib\\site-packages\\tensorflow\\python\\framework\\dtypes.py:523: FutureWarning: Passing (type, 1) or '1type' as a synonym of type is deprecated; in a future version of numpy, it will be understood as (type, (1,)) / '(1,)type'.\n",
      "  _np_qint8 = np.dtype([(\"qint8\", np.int8, 1)])\n",
      "c:\\users\\jordi\\appdata\\local\\programs\\python\\python36\\lib\\site-packages\\tensorflow\\python\\framework\\dtypes.py:524: FutureWarning: Passing (type, 1) or '1type' as a synonym of type is deprecated; in a future version of numpy, it will be understood as (type, (1,)) / '(1,)type'.\n",
      "  _np_quint8 = np.dtype([(\"quint8\", np.uint8, 1)])\n",
      "c:\\users\\jordi\\appdata\\local\\programs\\python\\python36\\lib\\site-packages\\tensorflow\\python\\framework\\dtypes.py:525: FutureWarning: Passing (type, 1) or '1type' as a synonym of type is deprecated; in a future version of numpy, it will be understood as (type, (1,)) / '(1,)type'.\n",
      "  _np_qint16 = np.dtype([(\"qint16\", np.int16, 1)])\n",
      "c:\\users\\jordi\\appdata\\local\\programs\\python\\python36\\lib\\site-packages\\tensorflow\\python\\framework\\dtypes.py:526: FutureWarning: Passing (type, 1) or '1type' as a synonym of type is deprecated; in a future version of numpy, it will be understood as (type, (1,)) / '(1,)type'.\n",
      "  _np_quint16 = np.dtype([(\"quint16\", np.uint16, 1)])\n",
      "c:\\users\\jordi\\appdata\\local\\programs\\python\\python36\\lib\\site-packages\\tensorflow\\python\\framework\\dtypes.py:527: FutureWarning: Passing (type, 1) or '1type' as a synonym of type is deprecated; in a future version of numpy, it will be understood as (type, (1,)) / '(1,)type'.\n",
      "  _np_qint32 = np.dtype([(\"qint32\", np.int32, 1)])\n",
      "c:\\users\\jordi\\appdata\\local\\programs\\python\\python36\\lib\\site-packages\\tensorflow\\python\\framework\\dtypes.py:532: FutureWarning: Passing (type, 1) or '1type' as a synonym of type is deprecated; in a future version of numpy, it will be understood as (type, (1,)) / '(1,)type'.\n",
      "  np_resource = np.dtype([(\"resource\", np.ubyte, 1)])\n"
     ]
    }
   ],
   "source": [
    "from keras.constraints import Constraint\n",
    "from keras import backend as K\n",
    "\n",
    "class ClipWeights(Constraint):\n",
    "    def __init__(self, low, high):\n",
    "        self.low = low\n",
    "        self.high = high\n",
    "        \n",
    "    def __call__(self, weight):\n",
    "        return K.clip(weight, self.low, self.high)"
   ]
  },
  {
   "cell_type": "markdown",
   "metadata": {},
   "source": [
    "Load keras NN libraries and create empty NN"
   ]
  },
  {
   "cell_type": "code",
   "execution_count": 11,
   "metadata": {},
   "outputs": [],
   "source": [
    "#Defining the model \n",
    "from keras.models import Sequential\n",
    "from keras.layers import Dense, Dropout, GaussianNoise\n",
    "from keras.optimizers import Adam\n",
    "\n",
    "\n",
    "model = Sequential()"
   ]
  },
  {
   "cell_type": "markdown",
   "metadata": {},
   "source": [
    "Add input layer for the 20 hardware counters\n",
    "Add one hidden layer\n",
    "And one output layer\n",
    "Then compile the model"
   ]
  },
  {
   "cell_type": "code",
   "execution_count": 12,
   "metadata": {},
   "outputs": [
    {
     "name": "stdout",
     "output_type": "stream",
     "text": [
      "_________________________________________________________________\n",
      "Layer (type)                 Output Shape              Param #   \n",
      "=================================================================\n",
      "dense_1 (Dense)              (None, 18)                342       \n",
      "_________________________________________________________________\n",
      "dropout_1 (Dropout)          (None, 18)                0         \n",
      "_________________________________________________________________\n",
      "dense_2 (Dense)              (None, 16)                304       \n",
      "_________________________________________________________________\n",
      "dropout_2 (Dropout)          (None, 16)                0         \n",
      "_________________________________________________________________\n",
      "dense_3 (Dense)              (None, 8)                 136       \n",
      "=================================================================\n",
      "Total params: 782\n",
      "Trainable params: 782\n",
      "Non-trainable params: 0\n",
      "_________________________________________________________________\n"
     ]
    }
   ],
   "source": [
    "model.add(Dense(18, activation='selu', input_shape=(18,), kernel_constraint=ClipWeights(-10.0,10.0)))\n",
    "model.add(Dropout(0.1))\n",
    "model.add(Dense(16, activation='selu', kernel_constraint=ClipWeights(-10.0,10.0)))\n",
    "model.add(Dropout(0.1))\n",
    "model.add(Dense(8, activation='softmax', kernel_constraint=ClipWeights(-10.0,10.0)))\n",
    "\n",
    "model.compile(Adam(lr=0.001), 'categorical_crossentropy', metrics=['accuracy'])\n",
    "model.summary()"
   ]
  },
  {
   "cell_type": "markdown",
   "metadata": {},
   "source": [
    "Train the neural network"
   ]
  },
  {
   "cell_type": "code",
   "execution_count": 13,
   "metadata": {},
   "outputs": [
    {
     "name": "stdout",
     "output_type": "stream",
     "text": [
      "Train on 658003 samples, validate on 164501 samples\n",
      "Epoch 1/24\n",
      "658003/658003 [==============================] - 8s 12us/step - loss: 0.3768 - acc: 0.8601 - val_loss: 0.1460 - val_acc: 0.9395\n",
      "Epoch 2/24\n",
      "658003/658003 [==============================] - 7s 11us/step - loss: 0.1201 - acc: 0.9588 - val_loss: 0.0972 - val_acc: 0.9567\n",
      "Epoch 3/24\n",
      "658003/658003 [==============================] - 7s 11us/step - loss: 0.0836 - acc: 0.9726 - val_loss: 0.0618 - val_acc: 0.9814\n",
      "Epoch 4/24\n",
      "658003/658003 [==============================] - 7s 11us/step - loss: 0.0694 - acc: 0.9770 - val_loss: 0.0784 - val_acc: 0.9637\n",
      "Epoch 5/24\n",
      "658003/658003 [==============================] - 7s 11us/step - loss: 0.0608 - acc: 0.9798 - val_loss: 0.0845 - val_acc: 0.9604\n",
      "Epoch 6/24\n",
      "658003/658003 [==============================] - 7s 11us/step - loss: 0.0559 - acc: 0.9816 - val_loss: 0.0400 - val_acc: 0.9925\n",
      "Epoch 7/24\n",
      "658003/658003 [==============================] - 8s 12us/step - loss: 0.0531 - acc: 0.9823 - val_loss: 0.0421 - val_acc: 0.9843\n",
      "Epoch 8/24\n",
      "658003/658003 [==============================] - 8s 12us/step - loss: 0.0507 - acc: 0.9831 - val_loss: 0.1187 - val_acc: 0.9552\n",
      "Epoch 9/24\n",
      "658003/658003 [==============================] - 7s 11us/step - loss: 0.0483 - acc: 0.9839 - val_loss: 0.0346 - val_acc: 0.9922\n",
      "Epoch 10/24\n",
      "658003/658003 [==============================] - 7s 11us/step - loss: 0.0472 - acc: 0.9843 - val_loss: 0.0385 - val_acc: 0.9903\n",
      "Epoch 11/24\n",
      "658003/658003 [==============================] - 7s 11us/step - loss: 0.0446 - acc: 0.9851 - val_loss: 0.0466 - val_acc: 0.9874\n",
      "Epoch 12/24\n",
      "658003/658003 [==============================] - 8s 12us/step - loss: 0.0436 - acc: 0.9853 - val_loss: 0.0471 - val_acc: 0.9804\n",
      "Epoch 13/24\n",
      "658003/658003 [==============================] - 8s 12us/step - loss: 0.0429 - acc: 0.9853 - val_loss: 0.0274 - val_acc: 0.9938\n",
      "Epoch 14/24\n",
      "658003/658003 [==============================] - 8s 12us/step - loss: 0.0414 - acc: 0.9857 - val_loss: 0.0331 - val_acc: 0.9894\n",
      "Epoch 15/24\n",
      "658003/658003 [==============================] - 8s 12us/step - loss: 0.0396 - acc: 0.9864 - val_loss: 0.0303 - val_acc: 0.9884\n",
      "Epoch 16/24\n",
      "658003/658003 [==============================] - 8s 11us/step - loss: 0.0379 - acc: 0.9867 - val_loss: 0.0406 - val_acc: 0.9815\n",
      "Epoch 17/24\n",
      "658003/658003 [==============================] - 7s 11us/step - loss: 0.0373 - acc: 0.9869 - val_loss: 0.0531 - val_acc: 0.9724\n",
      "Epoch 18/24\n",
      "658003/658003 [==============================] - 8s 12us/step - loss: 0.0356 - acc: 0.9875 - val_loss: 0.0247 - val_acc: 0.9890\n",
      "Epoch 19/24\n",
      "658003/658003 [==============================] - 7s 11us/step - loss: 0.0352 - acc: 0.9876 - val_loss: 0.0317 - val_acc: 0.9835\n",
      "Epoch 20/24\n",
      "658003/658003 [==============================] - 7s 11us/step - loss: 0.0336 - acc: 0.9881 - val_loss: 0.0185 - val_acc: 0.9964\n",
      "Epoch 21/24\n",
      "658003/658003 [==============================] - 8s 12us/step - loss: 0.0328 - acc: 0.9883 - val_loss: 0.0442 - val_acc: 0.9814\n",
      "Epoch 22/24\n",
      "658003/658003 [==============================] - 8s 12us/step - loss: 0.0322 - acc: 0.9885 - val_loss: 0.0167 - val_acc: 0.9943\n",
      "Epoch 23/24\n",
      "658003/658003 [==============================] - 7s 11us/step - loss: 0.0317 - acc: 0.9884 - val_loss: 0.0173 - val_acc: 0.9958\n",
      "Epoch 24/24\n",
      "658003/658003 [==============================] - 8s 11us/step - loss: 0.0311 - acc: 0.9887 - val_loss: 0.0169 - val_acc: 0.9936\n"
     ]
    }
   ],
   "source": [
    "history = model.fit(X_scaled,Y,batch_size=100,epochs=24,shuffle=True,validation_split=0.20)"
   ]
  },
  {
   "cell_type": "markdown",
   "metadata": {},
   "source": [
    "See the evolution of the model"
   ]
  },
  {
   "cell_type": "code",
   "execution_count": 15,
   "metadata": {
    "scrolled": false
   },
   "outputs": [
    {
     "data": {
      "image/png": "[encoded data removed]",
      "text/plain": [
       "<Figure size 720x720 with 1 Axes>"
      ]
     },
     "metadata": {
      "needs_background": "light"
     },
     "output_type": "display_data"
    }
   ],
   "source": [
    "import matplotlib.pyplot as plt\n",
    "from pylab import rcParams\n",
    "rcParams['figure.figsize'] = 10, 10\n",
    "plt.ylim(0.7,1)\n",
    "plt.plot(history.history['acc'])\n",
    "plt.plot(history.history['val_acc'])\n",
    "plt.title('model accuracy')\n",
    "plt.ylabel('accuracy')\n",
    "plt.xlabel('epoch')\n",
    "plt.legend(['train', 'test'], loc='upper left')\n",
    "plt.show()\n"
   ]
  },
  {
   "cell_type": "code",
   "execution_count": 16,
   "metadata": {},
   "outputs": [
    {
     "data": {
      "image/png": "[encoded data removed]",
      "text/plain": [
       "<Figure size 720x720 with 1 Axes>"
      ]
     },
     "metadata": {
      "needs_background": "light"
     },
     "output_type": "display_data"
    }
   ],
   "source": [
    "from pylab import rcParams\n",
    "rcParams['figure.figsize'] = 10, 10\n",
    "plt.plot(history.history['loss'])\n",
    "plt.plot(history.history['val_loss'])\n",
    "plt.title('model loss')\n",
    "plt.ylabel('loss')\n",
    "plt.xlabel('epoch')\n",
    "plt.legend(['train', 'test'], loc='upper left')\n",
    "plt.show()"
   ]
  },
  {
   "cell_type": "markdown",
   "metadata": {},
   "source": [
    "# Import validation dataset"
   ]
  },
  {
   "cell_type": "code",
   "execution_count": null,
   "metadata": {},
   "outputs": [],
   "source": [
    "dataset_pred = pd.read_csv('test_ANN.csv', sep=';')"
   ]
  },
  {
   "cell_type": "code",
   "execution_count": null,
   "metadata": {},
   "outputs": [],
   "source": [
    "dataset_pred.head(4)"
   ]
  },
  {
   "cell_type": "markdown",
   "metadata": {},
   "source": [
    "Normalize data to cycles\n",
    "This dataset needs normalizing because storing the normalized dataset increases the size by aprox. 3x-4x"
   ]
  },
  {
   "cell_type": "code",
   "execution_count": null,
   "metadata": {},
   "outputs": [],
   "source": [
    "dataset_pred1 = dataset_pred.copy()\n",
    "cols = list(dataset_pred.columns)\n",
    "cols.pop(0)\n",
    "print(cols)\n",
    "for col in cols:\n",
    "    dataset_pred1[col] = dataset_pred[col].div(dataset_pred['PAPI_REF_CYC'], axis=0)\n",
    "dataset_pred1.head(4)"
   ]
  },
  {
   "cell_type": "code",
   "execution_count": null,
   "metadata": {},
   "outputs": [],
   "source": [
    "dataset_pred = dataset_pred1.copy()\n",
    "del dataset_pred1"
   ]
  },
  {
   "cell_type": "markdown",
   "metadata": {},
   "source": [
    "Divide dataset hardware performance counters and labels"
   ]
  },
  {
   "cell_type": "code",
   "execution_count": null,
   "metadata": {},
   "outputs": [],
   "source": [
    "X_pred = dataset_pred.iloc[:,1:21].values\n",
    "y_pred = dataset_pred.iloc[:,0].values"
   ]
  },
  {
   "cell_type": "markdown",
   "metadata": {},
   "source": [
    "Normalize the data"
   ]
  },
  {
   "cell_type": "code",
   "execution_count": null,
   "metadata": {},
   "outputs": [],
   "source": [
    "X_pred_scaled = scaler_x.fit_transform(X_pred)"
   ]
  },
  {
   "cell_type": "markdown",
   "metadata": {},
   "source": [
    "Use the network to predict the labels and transform the output to the pattern's labels"
   ]
  },
  {
   "cell_type": "code",
   "execution_count": null,
   "metadata": {},
   "outputs": [],
   "source": [
    "from keras.utils import to_categorical\n",
    "predictions = model.predict_classes(X_pred_scaled)\n",
    "prediction_ = np.argmax(to_categorical(predictions), axis = 1)\n",
    "prediction_ = encoder.inverse_transform(prediction_)"
   ]
  },
  {
   "cell_type": "markdown",
   "metadata": {},
   "source": [
    "Make prediction readable"
   ]
  },
  {
   "cell_type": "code",
   "execution_count": null,
   "metadata": {},
   "outputs": [],
   "source": [
    "predicted_as={}\n",
    "for i, j in zip(prediction_ , y_pred):\n",
    "    pattern_as = str(j + \" -- predicted as: \" + i)\n",
    "    if pattern_as not in predicted_as:\n",
    "        predicted_as[pattern_as] = 0\n",
    "    predicted_as[pattern_as] = predicted_as[pattern_as] + 1"
   ]
  },
  {
   "cell_type": "markdown",
   "metadata": {},
   "source": [
    "Print predictions"
   ]
  },
  {
   "cell_type": "code",
   "execution_count": null,
   "metadata": {
    "scrolled": true
   },
   "outputs": [],
   "source": [
    "for i in sorted(predicted_as):\n",
    "    print ( i , \" --> \", predicted_as[i] )\n"
   ]
  }
 ],
 "metadata": {
  "kernelspec": {
   "display_name": "Python 3",
   "language": "python",
   "name": "python3"
  },
  "language_info": {
   "codemirror_mode": {
    "name": "ipython",
    "version": 3
   },
   "file_extension": ".py",
   "mimetype": "text/x-python",
   "name": "python",
   "nbconvert_exporter": "python",
   "pygments_lexer": "ipython3",
   "version": "3.6.7"
  }
 },
 "nbformat": 4,
 "nbformat_minor": 2
}
