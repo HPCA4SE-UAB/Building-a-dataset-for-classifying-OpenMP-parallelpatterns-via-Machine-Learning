{
 "cells": [
  {
   "cell_type": "markdown",
   "metadata": {},
   "source": [
    "# Sample of correlation analysis"
   ]
  },
  {
   "cell_type": "markdown",
   "metadata": {},
   "source": [
    "Load libraries and dataset"
   ]
  },
  {
   "cell_type": "code",
   "execution_count": 1,
   "metadata": {},
   "outputs": [],
   "source": [
    "import pandas as pd\n",
    "import numpy as np\n",
    "dataset_to_correlate = pd.read_csv('dataset_kernels_corr.csv', sep=';', dtype={'size vector': 'str'})"
   ]
  },
  {
   "cell_type": "markdown",
   "metadata": {},
   "source": [
    "Get list of sizes"
   ]
  },
  {
   "cell_type": "code",
   "execution_count": 2,
   "metadata": {},
   "outputs": [],
   "source": [
    "list_v_sizes = set(dataset_to_correlate[dataset_to_correlate['label']=='Copy']['size vector'])"
   ]
  },
  {
   "cell_type": "markdown",
   "metadata": {},
   "source": [
    "Declare labels to correlate in each axis"
   ]
  },
  {
   "cell_type": "code",
   "execution_count": 3,
   "metadata": {},
   "outputs": [],
   "source": [
    "labels_to_correlatey = {'2mm_0',\n",
    " '2mm_1',\n",
    " '3mm_1',\n",
    " '3mm_2',\n",
    " 'adi_0',\n",
    " 'adi_1',\n",
    " 'atax_0',\n",
    " 'atax_2',\n",
    " 'doitgen_0',\n",
    " 'doitgen_1',\n",
    " 'fdtd-2d_0',\n",
    " 'fdtd-2d_1',\n",
    " 'fdtd-2d_2',\n",
    " 'fdtd-2d_3',\n",
    " 'gemm',\n",
    " 'gesummv',\n",
    " 'heat-3d_0',\n",
    " 'jacobi-1d_0',\n",
    " 'jacobi-1d_1',\n",
    " 'jacobi-2d_0',\n",
    " 'jacobi-2d_1',\n",
    " 'mvt_0',\n",
    " 'mvt_1',\n",
    " 'syr2k',\n",
    " 'syrk',\n",
    " 'trmm'}"
   ]
  },
  {
   "cell_type": "code",
   "execution_count": 4,
   "metadata": {},
   "outputs": [],
   "source": [
    "labels_to_correlatex = {'Copy', 'Triad','Stride64','Rows','Reduction','matxvec','matxmat','stencil'}\n"
   ]
  },
  {
   "cell_type": "markdown",
   "metadata": {},
   "source": [
    "Sort, remove data used to sort and to select entries"
   ]
  },
  {
   "cell_type": "code",
   "execution_count": 5,
   "metadata": {},
   "outputs": [],
   "source": [
    "def clean_and_flaten_to_correlate(dataset_to_clean):\n",
    "    dataset_to_plot = dataset_to_clean.copy()\n",
    "    dataset_to_plot = dataset_to_plot.sort_values(['size vector','threads','affinity','id'])\n",
    "    del dataset_to_plot['id']\n",
    "    del dataset_to_plot['size vector']\n",
    "    del dataset_to_plot['threads']\n",
    "    del dataset_to_plot['affinity']\n",
    "    del dataset_to_plot['label']\n",
    "    return dataset_to_plot.values.ravel()"
   ]
  },
  {
   "cell_type": "markdown",
   "metadata": {},
   "source": [
    "Apply correlation analysis"
   ]
  },
  {
   "cell_type": "code",
   "execution_count": 6,
   "metadata": {
    "scrolled": false
   },
   "outputs": [
    {
     "name": "stdout",
     "output_type": "stream",
     "text": [
      "1000\n",
      "10000\n",
      "100000\n",
      "1000000\n",
      "100000000\n",
      "120000000\n",
      "140000000\n",
      "160000000\n",
      "180000000\n",
      "2000\n",
      "20000\n",
      "200000\n",
      "2000000\n",
      "20000000\n",
      "200000000\n",
      "3000\n",
      "30000\n",
      "300000\n",
      "3000000\n",
      "4000\n",
      "40000\n",
      "400000\n",
      "40000000\n",
      "5000\n",
      "50000\n",
      "500000\n",
      "5000000\n",
      "6000\n",
      "60000\n",
      "600000\n",
      "60000000\n",
      "7000\n",
      "70000\n",
      "700000\n",
      "7000000\n",
      "8000\n",
      "80000\n",
      "800000\n",
      "80000000\n",
      "9000\n",
      "90000\n",
      "900000\n",
      "9000000\n"
     ]
    }
   ],
   "source": [
    "import seaborn as sns\n",
    "import math\n",
    "from scipy.stats.stats import pearsonr   \n",
    "from scipy.stats.stats import spearmanr\n",
    "import matplotlib.pyplot as plt\n",
    "from scipy.stats.stats import kendalltau\n",
    "\n",
    "#Create correlation analysis matrices and one for the correlated size\n",
    "max_corr_matrix = np.zeros((len(labels_to_correlatey),len(labels_to_correlatex)))\n",
    "max_corr_matrixk = np.zeros((len(labels_to_correlatey),len(labels_to_correlatex)))\n",
    "correlation_size = pd.DataFrame(index=labels_to_correlatey, columns=labels_to_correlatex)\n",
    "\n",
    "\n",
    "#For each size \n",
    "for size_v in sorted(list_v_sizes):\n",
    "    corr_matrix = np.zeros((len(labels_to_correlatey),len(labels_to_correlatex)))\n",
    "\n",
    "    y = 0\n",
    "    x = 0\n",
    "\n",
    "    print(size_v)\n",
    "    #For each label in axis y\n",
    "    for y_label in labels_to_correlatey:\n",
    "        #Filter data by label and later by size\n",
    "        dataset_y = dataset_to_correlate[dataset_to_correlate['label']==y_label].copy()\n",
    "        dataset_y = dataset_y[(dataset_y['size vector']== 'unk')]\n",
    "        dataset_y_flat = clean_and_flaten_to_correlate(dataset_y)\n",
    "        \n",
    "        #For each label in axis y\n",
    "        for x_label in labels_to_correlatex:          \n",
    "            #Filter data by label and later by size\n",
    "            dataset_x = dataset_to_correlate[dataset_to_correlate['label']==x_label].copy()\n",
    "            dataset_x = dataset_x[(dataset_x['size vector']== size_v)|(dataset_x['size vector']== 'unk')]\n",
    "            dataset_x_flat = clean_and_flaten_to_correlate(dataset_x)\n",
    "\n",
    "            #Apply correlation analysis for spearman\n",
    "            p_v = spearmanr(dataset_y_flat,dataset_x_flat)\n",
    "            corr_matrix[y][x]= p_v[0]\n",
    "            max_corr = max(max_corr_matrix[y][x], p_v[0])\n",
    "            #To decrease execution time, apply kendall if matrix is updated\n",
    "            if max_corr == p_v[0] :\n",
    "                max_corr_matrix[y][x] = p_v[0]\n",
    "                p_v = kendalltau(dataset_y_flat,dataset_x_flat, method='auto')\n",
    "                max_corr_matrixk[y][x] = p_v[0]\n",
    "\n",
    "                correlation_size.at[y_label, x_label] = size_v\n",
    "            x = x + 1\n",
    "        y = y + 1   \n",
    "        x = 0"
   ]
  },
  {
   "cell_type": "markdown",
   "metadata": {},
   "source": [
    "Enforce column ordering and sort rows per name"
   ]
  },
  {
   "cell_type": "code",
   "execution_count": 7,
   "metadata": {},
   "outputs": [],
   "source": [
    "def create_corr_mat_in(mat_in):\n",
    "    max_corr_matrix_aux = np.round(mat_in, decimals=2)\n",
    "    df_corr = pd.DataFrame(max_corr_matrix_aux,index=labels_to_correlatey, columns=labels_to_correlatex)\n",
    "    df_corr = df_corr[['Copy', 'Triad','Stride64','Rows','Reduction','matxvec','matxmat','stencil']]\n",
    "    df_corr = df_corr.sort_index(axis = 0) \n",
    "    return df_corr\n"
   ]
  },
  {
   "cell_type": "code",
   "execution_count": 8,
   "metadata": {},
   "outputs": [],
   "source": [
    "mat_k = create_corr_mat_in(max_corr_matrixk)"
   ]
  },
  {
   "cell_type": "code",
   "execution_count": 9,
   "metadata": {},
   "outputs": [],
   "source": [
    "mat_s = create_corr_mat_in(max_corr_matrix)"
   ]
  },
  {
   "cell_type": "code",
   "execution_count": 10,
   "metadata": {},
   "outputs": [
    {
     "data": {
      "image/png": "[encoded data removed]",
      "text/plain": [
       "<Figure size 576x720 with 3 Axes>"
      ]
     },
     "metadata": {},
     "output_type": "display_data"
    }
   ],
   "source": [
    "import seaborn  as sns\n",
    "import matplotlib.pyplot as plt\n",
    "sns.set(font_scale=1.5)\n",
    "f,(ax1,ax3, axcb) = plt.subplots(1,3, \n",
    "            gridspec_kw={'width_ratios':[1,1,0.08]}, figsize=(8,10))\n",
    "ax1.get_shared_y_axes().join(ax3)\n",
    "g1 = sns.heatmap(mat_s, yticklabels=False, xticklabels=['Copy','One dim. group','Stride','Rows Stride', 'Reduction','Matrix x Vector', 'Matrix x Matrix', 'Stencil'],cmap=\"Blues\",cbar=False,ax=ax1)\n",
    "#g1 = sns.heatmap(mat_s, yticklabels=False, cmap=\"Blues\",cbar=False,ax=ax1)\n",
    "g1.set_ylabel('')\n",
    "g1.set_xlabel('Spearman', weight='bold')\n",
    "g3 = sns.heatmap(mat_k, yticklabels=False, xticklabels=['Copy','One dim. group','Stride','Rows Stride', 'Reduction','Matrix x Vector', 'Matrix x Matrix', 'Stencil'],cmap=\"Blues\",ax=ax3, cbar_ax=axcb)\n",
    "#g3 = sns.heatmap(mat_k, yticklabels=False, cmap=\"Blues\",ax=ax3, cbar_ax=axcb)\n",
    "g3.set_ylabel('')\n",
    "g3.set_xlabel('Kentall Tau', weight='bold')\n",
    "g3.set_yticks([])\n",
    "\n",
    "# may be needed to rotate the ticklabels correctly:\n",
    "for ax in [g1,g3]:\n",
    "    tl = ax.get_xticklabels()\n",
    "    ax.set_xticklabels(tl, rotation=90, weight='bold')\n",
    "    tly = ax.get_yticklabels()\n",
    "    ax.set_yticklabels(tly, rotation=0, weight='bold')\n",
    "\n",
    "plt.show()"
   ]
  },
  {
   "cell_type": "code",
   "execution_count": null,
   "metadata": {},
   "outputs": [],
   "source": []
  },
  {
   "cell_type": "code",
   "execution_count": null,
   "metadata": {},
   "outputs": [],
   "source": []
  }
 ],
 "metadata": {
  "kernelspec": {
   "display_name": "Python 3",
   "language": "python",
   "name": "python3"
  },
  "language_info": {
   "codemirror_mode": {
    "name": "ipython",
    "version": 3
   },
   "file_extension": ".py",
   "mimetype": "text/x-python",
   "name": "python",
   "nbconvert_exporter": "python",
   "pygments_lexer": "ipython3",
   "version": "3.6.7"
  }
 },
 "nbformat": 4,
 "nbformat_minor": 2
}
